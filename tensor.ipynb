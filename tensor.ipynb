{
 "metadata": {
  "language_info": {
   "codemirror_mode": {
    "name": "ipython",
    "version": 3
   },
   "file_extension": ".py",
   "mimetype": "text/x-python",
   "name": "python",
   "nbconvert_exporter": "python",
   "pygments_lexer": "ipython3",
   "version": "3.8.7"
  },
  "orig_nbformat": 4,
  "kernelspec": {
   "name": "python3",
   "display_name": "Python 3.8.7 64-bit ('3.8')"
  },
  "interpreter": {
   "hash": "082e9a3bcad0a290d0001e938aa60b99250c6c2ef33a923c00b70f9826caf4b7"
  }
 },
 "nbformat": 4,
 "nbformat_minor": 2,
 "cells": [
  {
   "source": [
    "# Tensor\n",
    "tensor is a generalization of vectors and matrices to potentially higher dimensions\n",
    "- each tensor has a data type and a shape\n",
    "- Data types include: **float32**, **int32**, **string**, and **more**"
   ],
   "cell_type": "markdown",
   "metadata": {}
  },
  {
   "cell_type": "code",
   "execution_count": 5,
   "metadata": {},
   "outputs": [],
   "source": [
    "import tensorflow as tf"
   ]
  },
  {
   "source": [
    "## Creating tensors:"
   ],
   "cell_type": "markdown",
   "metadata": {}
  },
  {
   "cell_type": "code",
   "execution_count": 6,
   "metadata": {},
   "outputs": [],
   "source": [
    "string = tf.Variable('This is a string', tf.string)\n",
    "number = tf.Variable(324, tf.int32)\n",
    "floating = tf.Variable(3.456, tf.float32)"
   ]
  },
  {
   "source": [
    "## Rank/Degree\n",
    "Another word for **rank** is **degree**\n",
    "- this means the number of **dimensions** involved in the tesnor\n",
    "- Above is a scalar of rank 0 (singular dimension)"
   ],
   "cell_type": "markdown",
   "metadata": {}
  },
  {
   "cell_type": "code",
   "execution_count": 8,
   "metadata": {},
   "outputs": [],
   "source": [
    "rank1_tensor = tf.Variable(['test', 'ok'], tf.string)\n",
    "rank2_tensor = tf.Variable([['test', 'ok'], ['test', 'ok']], tf.string)"
   ]
  },
  {
   "source": [
    "### to determine rank"
   ],
   "cell_type": "markdown",
   "metadata": {}
  },
  {
   "cell_type": "code",
   "execution_count": 9,
   "metadata": {},
   "outputs": [
    {
     "output_type": "execute_result",
     "data": {
      "text/plain": [
       "<tf.Tensor: shape=(), dtype=int32, numpy=2>"
      ]
     },
     "metadata": {},
     "execution_count": 9
    }
   ],
   "source": [
    "tf.rank(rank2_tensor)"
   ]
  },
  {
   "source": [
    "## Shape of tensors"
   ],
   "cell_type": "markdown",
   "metadata": {}
  },
  {
   "cell_type": "code",
   "execution_count": 10,
   "metadata": {},
   "outputs": [
    {
     "output_type": "execute_result",
     "data": {
      "text/plain": [
       "TensorShape([2, 2])"
      ]
     },
     "metadata": {},
     "execution_count": 10
    }
   ],
   "source": [
    "rank2_tensor.shape"
   ]
  },
  {
   "source": [
    "## Changing shape\n"
   ],
   "cell_type": "markdown",
   "metadata": {}
  },
  {
   "cell_type": "code",
   "execution_count": 11,
   "metadata": {},
   "outputs": [
    {
     "output_type": "stream",
     "name": "stdout",
     "text": [
      "tensor1:  tf.Tensor(\n[[[1. 1. 1.]\n  [1. 1. 1.]]], shape=(1, 2, 3), dtype=float32)\ntensor2:  tf.Tensor(\n[[[1.]\n  [1.]\n  [1.]]\n\n [[1.]\n  [1.]\n  [1.]]], shape=(2, 3, 1), dtype=float32)\ntensor3:  tf.Tensor(\n[[1. 1.]\n [1. 1.]\n [1. 1.]], shape=(3, 2), dtype=float32)\n"
     ]
    }
   ],
   "source": [
    "tensor1 = tf.ones([1, 2, 3]) # creates a [1, 2, 3] shape tesnor full of ones\n",
    "tensor2 = tf.reshape(tensor1, [2, 3, 1]) # reshapes tensor\n",
    "tensor3 = tf.reshape(tensor2, [3, -1]) # -1 tells the tensor to calculate the size of dimensions in that place\n",
    "print('tensor1: ', tensor1)\n",
    "print('tensor2: ', tensor2)\n",
    "print('tensor3: ', tensor3)"
   ]
  },
  {
   "source": [
    "## Types of tensors:\n",
    "- Variable\n",
    "- Constant\n",
    "- Placeholder\n",
    "- SparseTensor\n",
    "\n",
    "Note: With the exception of Variable, tensors are immutable"
   ],
   "cell_type": "markdown",
   "metadata": {}
  },
  {
   "source": [
    "# Evaluating Tensors"
   ],
   "cell_type": "markdown",
   "metadata": {}
  },
  {
   "cell_type": "code",
   "execution_count": null,
   "metadata": {},
   "outputs": [],
   "source": [
    "with tf.Session() as sess: # creates a session using the default graph\n",
    "    tensor.eval() # {tensor} is name of the tensor"
   ]
  }
 ]
}